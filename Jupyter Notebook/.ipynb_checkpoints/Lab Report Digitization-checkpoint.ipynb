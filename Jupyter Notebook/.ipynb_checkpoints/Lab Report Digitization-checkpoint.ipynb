{
 "cells": [
  {
   "cell_type": "code",
   "execution_count": 2,
   "metadata": {},
   "outputs": [],
   "source": [
    "import pytesseract\n",
    "from PIL import Image\n",
    "import cv2\n",
    "pytesseract.pytesseract.tesseract_cmd = r'C:\\Program Files\\Tesseract-OCR\\tesseract.exe'"
   ]
  },
  {
   "cell_type": "code",
   "execution_count": 3,
   "metadata": {},
   "outputs": [],
   "source": [
    "img=cv2.imread('IMG_20200123_191416.jpg')\n",
    "text = pytesseract.image_to_string(img).lower()"
   ]
  },
  {
   "cell_type": "code",
   "execution_count": 20,
   "metadata": {
    "scrolled": false
   },
   "outputs": [
    {
     "name": "stdout",
     "output_type": "stream",
     "text": [
      "~ cghs-559490 mr.intsar ahmed collected d\n",
      "received\n",
      "\n",
      "145073055 age: 44 years gender: male reported\n",
      "\n",
      "status : p ref by: c.m.0.,cghs dispensary report status\n",
      "ne  ieesteiael\n",
      "\n",
      " \n",
      "\n",
      " \n",
      "\n",
      "test name\n",
      "\n",
      " \n",
      "\n",
      "complete blood count (cbc)\n",
      "\n",
      " \n",
      "\n",
      " \n",
      "\n",
      " \n",
      "\n",
      " \n",
      "\n",
      " \n",
      "\n",
      " \n",
      "\n",
      " \n",
      "\n",
      " \n",
      "\n",
      " \n",
      "\n",
      " \n",
      "\n",
      " \n",
      "\n",
      " \n",
      "\n",
      " \n",
      "\n",
      "(electrical impedance & vcs,photometry ) ee\n",
      "pao ea a 00 - 17.00\n",
      "hemoglobin. 15.10 ie {ee\n",
      "\n",
      "9 40.00 - 50.00\n",
      "\n",
      "packed cell volume (pcv) 44.80 [% re a ae\n",
      "\n",
      "ai lal \n",
      ";\n",
      "\n",
      "rbc count  5.11 mill/mms3   450-57 ——\n",
      "mcv 87.60 fl 80.00 - 100.00\n",
      "\n",
      "mch 29.60 a pg — 27.00 - 32.00\n",
      "\n",
      "mchc 33.80  g/dl 32.00 - 35.00\n",
      " red cell distribution width (rdw) 14.30 be wo 11.50 - 14.50\n",
      "total leukocyte count (eg) a sd ee thou/mm3  4.00 - 10.00\n",
      "\n",
      "differential leucocyte count (dlc)\n",
      "\n",
      "segmented neutrophils 43.00 %o 40.00 - 80.00\n",
      "lymphocytes 40.90  % 20.00 - 40.00\n",
      "monocytes  8.80 % 2.00 - 10.00\n",
      "eosinophils  7.10 % 1.00 - 6.00\n",
      "basophils 0.20  % <2.00\n",
      "absolute leucocyte count \n",
      "neutrophils 3.01  thou/mm3 2.00 - 7.00\n",
      "\n",
      "lymphocytes 2.86  thou/mm3 1.00 - 3.00\n",
      "monocytes 0.62 thou/mms3 0.20 - 1.00\n",
      "i e . . \n",
      "seen 0.50 thou/mm3 0.02 - 0.50\n",
      " basophi \n",
      " anil a baa 0.01 thou/mm3 0.01 -0.10\n",
      " platelet co ae  eee i\n",
      "ee es — 80.0 thou/mm3 150.00 - 450.00\n",
      "\n",
      "   \n",
      "\n",
      "d crrchd durred: belar ore mrlagl geamlan fue rarer 2cccd ob kvbume moceeee ce\n"
     ]
    }
   ],
   "source": [
    "import re\n",
    "text = re.sub('[!@#$_|]', '', text)\n",
    "print(text)"
   ]
  },
  {
   "cell_type": "code",
   "execution_count": 21,
   "metadata": {},
   "outputs": [],
   "source": [
    "textWords = text.split()"
   ]
  },
  {
   "cell_type": "code",
   "execution_count": 22,
   "metadata": {},
   "outputs": [
    {
     "name": "stdout",
     "output_type": "stream",
     "text": [
      "['~', 'cghs-559490', 'mr.intsar', 'ahmed', 'collected', 'd', 'received', '145073055', 'age:', '44', 'years', 'gender:', 'male', 'reported', 'status', ':', 'p', 'ref', 'by:', 'c.m.0.,cghs', 'dispensary', 'report', 'status', 'ne', 'ieesteiael', 'test', 'name', 'complete', 'blood', 'count', '(cbc)', '(electrical', 'impedance', '&', 'vcs,photometry', ')', 'ee', 'pao', 'ea', 'a', '00', '-', '17.00', 'hemoglobin.', '15.10', 'ie', '{ee', '9', '40.00', '-', '50.00', 'packed', 'cell', 'volume', '(pcv)', '44.80', '[%', 're', 'a', 'ae', 'ai', 'lal', ';', 'rbc', 'count', '5.11', 'mill/mms3', '450-57', '——', 'mcv', '87.60', 'fl', '80.00', '-', '100.00', 'mch', '29.60', 'a', 'pg', '—', '27.00', '-', '32.00', 'mchc', '33.80', 'g/dl', '32.00', '-', '35.00', 'red', 'cell', 'distribution', 'width', '(rdw)', '14.30', 'be', 'wo', '11.50', '-', '14.50', 'total', 'leukocyte', 'count', '(eg)', 'a', 'sd', 'ee', 'thou/mm3', '4.00', '-', '10.00', 'differential', 'leucocyte', 'count', '(dlc)', 'segmented', 'neutrophils', '43.00', '%o', '40.00', '-', '80.00', 'lymphocytes', '40.90', '%', '20.00', '-', '40.00', 'monocytes', '8.80', '%', '2.00', '-', '10.00', 'eosinophils', '7.10', '%', '1.00', '-', '6.00', 'basophils', '0.20', '%', '<2.00', 'absolute', 'leucocyte', 'count', 'neutrophils', '3.01', 'thou/mm3', '2.00', '-', '7.00', 'lymphocytes', '2.86', 'thou/mm3', '1.00', '-', '3.00', 'monocytes', '0.62', 'thou/mms3', '0.20', '-', '1.00', 'i', 'e', '.', '.', 'seen', '0.50', 'thou/mm3', '0.02', '-', '0.50', 'basophi', 'anil', 'a', 'baa', '0.01', 'thou/mm3', '0.01', '-0.10', 'platelet', 'co', 'ae', 'eee', 'i', 'ee', 'es', '—', '80.0', 'thou/mm3', '150.00', '-', '450.00', 'd', 'crrchd', 'durred:', 'belar', 'ore', 'mrlagl', 'geamlan', 'fue', 'rarer', '2cccd', 'ob', 'kvbume', 'moceeee', 'ce']\n"
     ]
    }
   ],
   "source": [
    "print(textWords)"
   ]
  },
  {
   "cell_type": "code",
   "execution_count": 23,
   "metadata": {},
   "outputs": [],
   "source": [
    "# medical_terms = [\"hemoglobin\", \"rbc count\", \"mcv\", \"mch\", \"mchc\", \n",
    "#                  \"red cell distribution width (row)\", \"total leukocyte count (tlc)\",\n",
    "#                  \"differential leucocyte count (dlc)\"]\n",
    "medical_terms = [\"hemoglobin\", \"rbc count\", \"mcv\", \"mch\", \"mchc\", \n",
    "                 \"red cell distribution width (row)\", \"total leukocyte count (tlc)\",\n",
    "                 \"differential leucocyte count (dlc)\",\"packed cell volume (pcv)\",\n",
    "                 \"segmented neutrophils\",\"lymphocytes\",\"monocytes\",\"eosinophils\",\"basophils\"\n",
    "                 ,\"neutrophils\",\"lymphocytes\",\"monocytes\",\"platelet\",\"cholesterol total\",\"triglycerides\"\n",
    "                 ,\"hdl cholesterol\",\"ldl cholesterol\",\"vldl cholesterol\",\"non-hdl cholesterol\",\"glucose fasting\",\"glucose (pp)\",\"platelet\",\"ast-:alt ratio\",\"ggtp\",\"alkaline phosphatase (alp)\"]\n"
   ]
  },
  {
   "cell_type": "code",
   "execution_count": 24,
   "metadata": {},
   "outputs": [],
   "source": [
    "def checkNumber(s):\n",
    "    return s.replace('.','',1).isdigit()"
   ]
  },
  {
   "cell_type": "code",
   "execution_count": 25,
   "metadata": {},
   "outputs": [],
   "source": [
    "import re"
   ]
  },
  {
   "cell_type": "code",
   "execution_count": 26,
   "metadata": {},
   "outputs": [],
   "source": [
    "user_dict = {}\n",
    "for i in range(len(textWords)):\n",
    "    curr_term = ''\n",
    "    for j in range(5):  # Check till 5 elements after\n",
    "        if i+j+1 >= len(textWords):\n",
    "            break\n",
    "        curr_term += textWords[i+j]\n",
    "        if curr_term in medical_terms:\n",
    "            if checkNumber(textWords[i+j+1]):\n",
    "                user_dict[curr_term] = textWords[i+j+1]\n",
    "        curr_term += ' '\n",
    "        "
   ]
  },
  {
   "cell_type": "code",
   "execution_count": 27,
   "metadata": {},
   "outputs": [
    {
     "data": {
      "text/plain": [
       "{'packed cell volume (pcv)': '44.80',\n",
       " 'rbc count': '5.11',\n",
       " 'mcv': '87.60',\n",
       " 'mch': '29.60',\n",
       " 'mchc': '33.80',\n",
       " 'segmented neutrophils': '43.00',\n",
       " 'neutrophils': '3.01',\n",
       " 'lymphocytes': '2.86',\n",
       " 'monocytes': '0.62',\n",
       " 'eosinophils': '7.10',\n",
       " 'basophils': '0.20'}"
      ]
     },
     "execution_count": 27,
     "metadata": {},
     "output_type": "execute_result"
    }
   ],
   "source": [
    "user_dict"
   ]
  },
  {
   "cell_type": "code",
   "execution_count": null,
   "metadata": {},
   "outputs": [],
   "source": []
  },
  {
   "cell_type": "code",
   "execution_count": null,
   "metadata": {},
   "outputs": [],
   "source": []
  }
 ],
 "metadata": {
  "kernelspec": {
   "display_name": "Python 3",
   "language": "python",
   "name": "python3"
  },
  "language_info": {
   "codemirror_mode": {
    "name": "ipython",
    "version": 3
   },
   "file_extension": ".py",
   "mimetype": "text/x-python",
   "name": "python",
   "nbconvert_exporter": "python",
   "pygments_lexer": "ipython3",
   "version": "3.7.6"
  }
 },
 "nbformat": 4,
 "nbformat_minor": 4
}

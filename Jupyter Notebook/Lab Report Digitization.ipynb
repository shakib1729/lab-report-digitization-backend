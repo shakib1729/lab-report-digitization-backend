{
 "cells": [
  {
   "cell_type": "code",
   "execution_count": 2,
   "metadata": {},
   "outputs": [],
   "source": [
    "import pytesseract\n",
    "from PIL import Image\n",
    "import cv2\n",
    "pytesseract.pytesseract.tesseract_cmd = r'C:\\Program Files\\Tesseract-OCR\\tesseract.exe'"
   ]
  },
  {
   "cell_type": "code",
   "execution_count": 28,
   "metadata": {},
   "outputs": [],
   "source": [
    "img=cv2.imread('IMG_20200123_191416.jpg')\n",
    "text = pytesseract.image_to_string(img).lower()"
   ]
  },
  {
   "cell_type": "code",
   "execution_count": 29,
   "metadata": {
    "scrolled": false
   },
   "outputs": [
    {
     "name": "stdout",
     "output_type": "stream",
     "text": [
      "ee\n",
      "\n",
      "collected : 22/10/2017\n",
      "received 22/10/2017 tas ae\n",
      ". . 438122456 age: 43 years gender: male reported + 22/10/2017 1:52:33pm\n",
      "a : final\n",
      "comics =. p ref by: cghs ro\n",
      "results units bio. ref. interval \n",
      "test name ee =\n",
      "complete blood count (cbc)\n",
      "(electrical impedance & vcs,photometry ) : —— a\n",
      "hemoglobin 15.50  g/dl to aas\n",
      "emog = of  40.00 - 50.00\n",
      "packed cell volume (pcv)  48:50 ar 2 mea\n",
      "5.14 mill/mm3 4.50 - 5.50\n",
      "rbc count a= —-\n",
      "88.50 ae 80.00 - 100.00\n",
      "a a 27.00 - 32.00\n",
      " mch 30.10  ps mee\n",
      "mchc 34.00 g/dl if 32.00 - 35.00\n",
      "r 1 y 11.50 - 14.50 \n",
      "red cell distribution width (rdw)  14.20 eae : re.\n",
      ") /mm oo - tu.\n",
      " total leukocyte count (tlc) 7.80  thou/m \n",
      " differential leucocyte count (dlc)\n",
      " 0  40.00 - 80.00\n",
      " segmented neutrophils  35.70  % 40.0\n",
      ".  6 :\n",
      ". 5 i\n",
      " monocytes 10.50 yo 2.00 - 10.00\n",
      " eosinophils 7.50 %  1.00 - 6.00\n",
      " basophils 0.20 % <2.00\n",
      " absolute leucocyte count\n",
      " neutrophils zane thou/mm3 2.00 -7.00\n",
      " lymphocytes 3.60 thou/mms3 ' 1.00 - 3.00\n",
      " monocytes 0.82 thou/mm3  0.20 - 1.00\n",
      " eosinophils 0.59 thou/mm3 ' 0.02 - 0.50\n",
      " basophils 0.02 thou/mm3 0.01 -0.10\n",
      "tes. - { . i ee\n",
      " platelet count a oe ‘thoumm3 150.00 - 450.00\n",
      "note\n",
      "\n",
      "1. as per the recommendation of international council for standardization in hematology, the differential\n",
      "leucocyte counts are additionally being reported as absolute numbers of each cell in per unit volume of\n",
      "\n",
      "blood\n",
      "\n",
      "2. test conducted on edta whole blood\n",
      "advised\n",
      "\n",
      "platelet count, fluorescent (plt-f) & immature platelet fraction (ipf)\n",
      "\n",
      " comments\n",
      "i ; there is lymphocytosis\n",
      "\n",
      "iana\n",
      "\n",
      "page4ofs\n"
     ]
    }
   ],
   "source": [
    "import re\n",
    "text = re.sub('[!@#$_|]', '', text)\n",
    "print(text)"
   ]
  },
  {
   "cell_type": "code",
   "execution_count": 30,
   "metadata": {},
   "outputs": [],
   "source": [
    "textWords = text.split()"
   ]
  },
  {
   "cell_type": "code",
   "execution_count": 31,
   "metadata": {},
   "outputs": [
    {
     "name": "stdout",
     "output_type": "stream",
     "text": [
      "['ee', 'collected', ':', '22/10/2017', 'received', '22/10/2017', 'tas', 'ae', '.', '.', '438122456', 'age:', '43', 'years', 'gender:', 'male', 'reported', '+', '22/10/2017', '1:52:33pm', 'a', ':', 'final', 'comics', '=.', 'p', 'ref', 'by:', 'cghs', 'ro', 'results', 'units', 'bio.', 'ref.', 'interval', 'test', 'name', 'ee', '=', 'complete', 'blood', 'count', '(cbc)', '(electrical', 'impedance', '&', 'vcs,photometry', ')', ':', '——', 'a', 'hemoglobin', '15.50', 'g/dl', 'to', 'aas', 'emog', '=', 'of', '40.00', '-', '50.00', 'packed', 'cell', 'volume', '(pcv)', '48:50', 'ar', '2', 'mea', '5.14', 'mill/mm3', '4.50', '-', '5.50', 'rbc', 'count', 'a=', '—-', '88.50', 'ae', '80.00', '-', '100.00', 'a', 'a', '27.00', '-', '32.00', 'mch', '30.10', 'ps', 'mee', 'mchc', '34.00', 'g/dl', 'if', '32.00', '-', '35.00', 'r', '1', 'y', '11.50', '-', '14.50', 'red', 'cell', 'distribution', 'width', '(rdw)', '14.20', 'eae', ':', 're.', ')', '/mm', 'oo', '-', 'tu.', 'total', 'leukocyte', 'count', '(tlc)', '7.80', 'thou/m', 'differential', 'leucocyte', 'count', '(dlc)', '0', '40.00', '-', '80.00', 'segmented', 'neutrophils', '35.70', '%', '40.0', '.', '6', ':', '.', '5', 'i', 'monocytes', '10.50', 'yo', '2.00', '-', '10.00', 'eosinophils', '7.50', '%', '1.00', '-', '6.00', 'basophils', '0.20', '%', '<2.00', 'absolute', 'leucocyte', 'count', 'neutrophils', 'zane', 'thou/mm3', '2.00', '-7.00', 'lymphocytes', '3.60', 'thou/mms3', \"'\", '1.00', '-', '3.00', 'monocytes', '0.82', 'thou/mm3', '0.20', '-', '1.00', 'eosinophils', '0.59', 'thou/mm3', \"'\", '0.02', '-', '0.50', 'basophils', '0.02', 'thou/mm3', '0.01', '-0.10', 'tes.', '-', '{', '.', 'i', 'ee', 'platelet', 'count', 'a', 'oe', '‘thoumm3', '150.00', '-', '450.00', 'note', '1.', 'as', 'per', 'the', 'recommendation', 'of', 'international', 'council', 'for', 'standardization', 'in', 'hematology,', 'the', 'differential', 'leucocyte', 'counts', 'are', 'additionally', 'being', 'reported', 'as', 'absolute', 'numbers', 'of', 'each', 'cell', 'in', 'per', 'unit', 'volume', 'of', 'blood', '2.', 'test', 'conducted', 'on', 'edta', 'whole', 'blood', 'advised', 'platelet', 'count,', 'fluorescent', '(plt-f)', '&', 'immature', 'platelet', 'fraction', '(ipf)', 'comments', 'i', ';', 'there', 'is', 'lymphocytosis', 'iana', 'page4ofs']\n"
     ]
    }
   ],
   "source": [
    "print(textWords)"
   ]
  },
  {
   "cell_type": "code",
   "execution_count": 32,
   "metadata": {},
   "outputs": [],
   "source": [
    "# medical_terms = [\"hemoglobin\", \"rbc count\", \"mcv\", \"mch\", \"mchc\", \n",
    "#                  \"red cell distribution width (row)\", \"total leukocyte count (tlc)\",\n",
    "#                  \"differential leucocyte count (dlc)\"]\n",
    "medical_terms = [\"hemoglobin\", \"rbc count\", \"mcv\", \"mch\", \"mchc\", \n",
    "                 \"red cell distribution width (row)\", \"total leukocyte count (tlc)\",\n",
    "                 \"differential leucocyte count (dlc)\",\"packed cell volume (pcv)\",\n",
    "                 \"segmented neutrophils\",\"lymphocytes\",\"monocytes\",\"eosinophils\",\"basophils\"\n",
    "                 ,\"neutrophils\",\"lymphocytes\",\"monocytes\",\"platelet\",\"cholesterol total\",\"triglycerides\"\n",
    "                 ,\"hdl cholesterol\",\"ldl cholesterol\",\"vldl cholesterol\",\"non-hdl cholesterol\",\"glucose fasting\",\"glucose (pp)\",\"platelet\",\"ast-:alt ratio\",\"ggtp\",\"alkaline phosphatase (alp)\"]\n"
   ]
  },
  {
   "cell_type": "code",
   "execution_count": 33,
   "metadata": {},
   "outputs": [],
   "source": [
    "def checkNumber(s):\n",
    "    return s.replace('.','',1).isdigit()"
   ]
  },
  {
   "cell_type": "code",
   "execution_count": 34,
   "metadata": {},
   "outputs": [],
   "source": [
    "import re"
   ]
  },
  {
   "cell_type": "code",
   "execution_count": 35,
   "metadata": {},
   "outputs": [],
   "source": [
    "user_dict = {}\n",
    "for i in range(len(textWords)):\n",
    "    curr_term = ''\n",
    "    for j in range(5):  # Check till 5 elements after\n",
    "        if i+j+1 >= len(textWords):\n",
    "            break\n",
    "        curr_term += textWords[i+j]\n",
    "        if curr_term in medical_terms:\n",
    "            if checkNumber(textWords[i+j+1]):\n",
    "                user_dict[curr_term] = textWords[i+j+1]\n",
    "        curr_term += ' '\n",
    "        "
   ]
  },
  {
   "cell_type": "code",
   "execution_count": 36,
   "metadata": {},
   "outputs": [
    {
     "data": {
      "text/plain": [
       "{'hemoglobin': '15.50',\n",
       " 'mch': '30.10',\n",
       " 'mchc': '34.00',\n",
       " 'total leukocyte count (tlc)': '7.80',\n",
       " 'differential leucocyte count (dlc)': '0',\n",
       " 'segmented neutrophils': '35.70',\n",
       " 'neutrophils': '35.70',\n",
       " 'monocytes': '0.82',\n",
       " 'eosinophils': '0.59',\n",
       " 'basophils': '0.02',\n",
       " 'lymphocytes': '3.60'}"
      ]
     },
     "execution_count": 36,
     "metadata": {},
     "output_type": "execute_result"
    }
   ],
   "source": [
    "user_dict"
   ]
  },
  {
   "cell_type": "code",
   "execution_count": null,
   "metadata": {},
   "outputs": [],
   "source": []
  },
  {
   "cell_type": "code",
   "execution_count": null,
   "metadata": {},
   "outputs": [],
   "source": []
  }
 ],
 "metadata": {
  "kernelspec": {
   "display_name": "Python 3",
   "language": "python",
   "name": "python3"
  },
  "language_info": {
   "codemirror_mode": {
    "name": "ipython",
    "version": 3
   },
   "file_extension": ".py",
   "mimetype": "text/x-python",
   "name": "python",
   "nbconvert_exporter": "python",
   "pygments_lexer": "ipython3",
   "version": "3.7.6"
  }
 },
 "nbformat": 4,
 "nbformat_minor": 4
}
